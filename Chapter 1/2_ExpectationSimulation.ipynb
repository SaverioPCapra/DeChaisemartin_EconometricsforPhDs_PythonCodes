{
 "cells": [
  {
   "cell_type": "code",
   "execution_count": 1,
   "metadata": {},
   "outputs": [],
   "source": [
    "import numpy as np"
   ]
  },
  {
   "cell_type": "code",
   "execution_count": 2,
   "metadata": {},
   "outputs": [],
   "source": [
    "# I set the length of the vectors which I'm going to create \n",
    "obs = 10\n",
    "\n",
    "# I randomly generate a vector from the uniform distribution on [0,1]\n",
    "u = np.random.uniform(size = obs)\n",
    "# I store the mean of u in a scalar called r1\n",
    "r1 = u.mean()"
   ]
  },
  {
   "cell_type": "code",
   "execution_count": 3,
   "metadata": {},
   "outputs": [
    {
     "name": "stdout",
     "output_type": "stream",
     "text": [
      "r1: 0.35108827458595065\n"
     ]
    }
   ],
   "source": [
    "print(\"r1:\", r1)"
   ]
  },
  {
   "cell_type": "markdown",
   "metadata": {},
   "source": [
    "Now we try the same with more observations"
   ]
  },
  {
   "cell_type": "code",
   "execution_count": 4,
   "metadata": {},
   "outputs": [],
   "source": [
    "# I set the length of the vectors which I'm going to create \n",
    "obs = 1000\n",
    "\n",
    "# I randomly generate a vector from the uniform distribution on [0,1]\n",
    "u = np.random.uniform(size = obs)\n",
    "# I store the mean of u in a scalar called r1\n",
    "r2 = u.mean()"
   ]
  },
  {
   "cell_type": "code",
   "execution_count": 5,
   "metadata": {},
   "outputs": [
    {
     "name": "stdout",
     "output_type": "stream",
     "text": [
      "r2: 0.4919829014868748\n"
     ]
    }
   ],
   "source": [
    "print(\"r2:\", r2)"
   ]
  },
  {
   "cell_type": "markdown",
   "metadata": {},
   "source": [
    "Of course, the more observations we have, the more the mean will get close to the expectation of the uniform on [0,1], by the weak law of large numbers."
   ]
  }
 ],
 "metadata": {
  "kernelspec": {
   "display_name": "Python 3",
   "language": "python",
   "name": "python3"
  },
  "language_info": {
   "codemirror_mode": {
    "name": "ipython",
    "version": 3
   },
   "file_extension": ".py",
   "mimetype": "text/x-python",
   "name": "python",
   "nbconvert_exporter": "python",
   "pygments_lexer": "ipython3",
   "version": "3.10.11"
  }
 },
 "nbformat": 4,
 "nbformat_minor": 2
}
